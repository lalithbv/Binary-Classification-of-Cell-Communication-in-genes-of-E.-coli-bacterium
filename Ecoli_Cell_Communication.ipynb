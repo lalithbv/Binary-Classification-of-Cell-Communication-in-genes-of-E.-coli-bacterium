{
 "cells": [
  {
   "cell_type": "markdown",
   "metadata": {},
   "source": [
    "### Python Libraries to be installed:"
   ]
  },
  {
   "cell_type": "markdown",
   "metadata": {},
   "source": [
    "```ssh\n",
    "pip install pandas\n",
    "pip install numpy\n",
    "pip install imbalanced-learn\n",
    "pip install scikit-learn\n",
    "pip install xgboost\n",
    "```"
   ]
  },
  {
   "cell_type": "code",
   "execution_count": 1,
   "metadata": {},
   "outputs": [
    {
     "name": "stdout",
     "output_type": "stream",
     "text": [
      "Python Version Used:  3.8.12\n"
     ]
    }
   ],
   "source": [
    "# Get Python Version\n",
    "\n",
    "import platform\n",
    "print(\"Python Version Used: \",platform.python_version())"
   ]
  },
  {
   "cell_type": "code",
   "execution_count": 2,
   "metadata": {},
   "outputs": [],
   "source": [
    "# Import required libraries\n",
    "\n",
    "import numpy as np\n",
    "import pandas as pd\n",
    "import sklearn\n",
    "import scipy\n",
    "import matplotlib.pyplot as plt\n",
    "import seaborn as sns\n",
    "from sklearn.metrics import f1_score, accuracy_score\n",
    "from sklearn.neighbors import LocalOutlierFactor\n",
    "from sklearn.preprocessing import StandardScaler\n",
    "from sklearn.linear_model import LogisticRegression\n",
    "from sklearn.tree import DecisionTreeClassifier\n",
    "from sklearn.ensemble import RandomForestClassifier, VotingClassifier\n",
    "from sklearn.model_selection import KFold, train_test_split\n",
    "from sklearn.naive_bayes import GaussianNB\n",
    "from sklearn.svm import SVC\n",
    "from xgboost import XGBClassifier\n",
    "from imblearn.over_sampling import SMOTE"
   ]
  },
  {
   "cell_type": "code",
   "execution_count": null,
   "metadata": {},
   "outputs": [],
   "source": [
    "df = pd.read_csv(\"Ecoli.csv\") # Read Ecoli.csv"
   ]
  },
  {
   "cell_type": "code",
   "execution_count": null,
   "metadata": {},
   "outputs": [],
   "source": [
    "sns.countplot(data=df, x = 'Target (Column 117)')\n",
    "plt.ylabel('Count')\n",
    "plt.title('Target class count before SMOTE')\n",
    "plt.show();"
   ]
  },
  {
   "cell_type": "code",
   "execution_count": null,
   "metadata": {},
   "outputs": [],
   "source": [
    "df.isnull().mean().plot.bar(figsize=(18,8))\n",
    "plt.ylabel('Percentage of missing values')\n",
    "plt.xlabel('Features')\n",
    "plt.title('Quantifying missing data in percentage (Before Imputation)')\n",
    "plt.show();"
   ]
  },
  {
   "cell_type": "code",
   "execution_count": null,
   "metadata": {},
   "outputs": [],
   "source": [
    "# Strip Leading and Trailing Space of all the column names\n",
    "df.columns = df.columns.str.strip()\n",
    "df.columns"
   ]
  },
  {
   "cell_type": "code",
   "execution_count": null,
   "metadata": {},
   "outputs": [],
   "source": [
    "# Missing data imputation based on class\n",
    "mask = (df['Target (Column 117)']==0)\n",
    "mode = df[df['Target (Column 117)']==0].iloc[:,103:-1].mode().iloc[0]\n",
    "df = df.mask(mask, df.fillna(mode))"
   ]
  },
  {
   "cell_type": "code",
   "execution_count": null,
   "metadata": {},
   "outputs": [],
   "source": [
    "mask = (df['Target (Column 117)']==1)\n",
    "mode = df[df['Target (Column 117)']==1].iloc[:,103:-1].mode().iloc[0]\n",
    "df = df.mask(mask, df.fillna(mode))"
   ]
  },
  {
   "cell_type": "code",
   "execution_count": null,
   "metadata": {},
   "outputs": [],
   "source": [
    "mask = (df['Target (Column 117)']==0)\n",
    "median = df[df['Target (Column 117)']==0].iloc[:,0:103].median()\n",
    "df = df.mask(mask, df.fillna(median))"
   ]
  },
  {
   "cell_type": "code",
   "execution_count": null,
   "metadata": {},
   "outputs": [],
   "source": [
    "mask = (df['Target (Column 117)']==1)\n",
    "median = df[df['Target (Column 117)']==1].iloc[:,0:103].median()\n",
    "df = df.mask(mask, df.fillna(median))"
   ]
  },
  {
   "cell_type": "code",
   "execution_count": null,
   "metadata": {},
   "outputs": [],
   "source": [
    "df.isnull().mean().plot.bar(figsize=(18,8))\n",
    "plt.ylabel('Percentage of missing values')\n",
    "plt.xlabel('Features')\n",
    "plt.title('Quantifying missing data in percentage (After Imputation)')\n",
    "plt.show();"
   ]
  },
  {
   "cell_type": "code",
   "execution_count": null,
   "metadata": {},
   "outputs": [],
   "source": [
    "# Convert float to int for nominal columns\n",
    "\n",
    "for i in df.columns:\n",
    "    if i[:5] == \"(Nom)\":\n",
    "        df[i] = df[i].astype('int')"
   ]
  },
  {
   "cell_type": "code",
   "execution_count": null,
   "metadata": {},
   "outputs": [],
   "source": [
    "# Split into features and target\n",
    "\n",
    "X = df.iloc[:, 0:-1]\n",
    "y = df.iloc[:,-1]"
   ]
  },
  {
   "cell_type": "code",
   "execution_count": null,
   "metadata": {},
   "outputs": [],
   "source": [
    "X"
   ]
  },
  {
   "cell_type": "code",
   "execution_count": null,
   "metadata": {},
   "outputs": [],
   "source": [
    "# Use Local Outlier Factor to remove outliers\n",
    "\n",
    "lof = LocalOutlierFactor()"
   ]
  },
  {
   "cell_type": "code",
   "execution_count": null,
   "metadata": {},
   "outputs": [],
   "source": [
    "outliers = lof.fit_predict(X) # Predict the labels (1 inlier, -1 outlier) of X according to LOF."
   ]
  },
  {
   "cell_type": "code",
   "execution_count": null,
   "metadata": {},
   "outputs": [],
   "source": [
    "np.unique(outliers, return_counts=True)"
   ]
  },
  {
   "cell_type": "code",
   "execution_count": null,
   "metadata": {},
   "outputs": [],
   "source": [
    "outliers.shape"
   ]
  },
  {
   "cell_type": "code",
   "execution_count": null,
   "metadata": {},
   "outputs": [],
   "source": [
    "outlier_lof_index = []\n",
    "for i, k in enumerate(outliers):\n",
    "    if k == -1:\n",
    "        outlier_lof_index.append(i)"
   ]
  },
  {
   "cell_type": "code",
   "execution_count": null,
   "metadata": {},
   "outputs": [],
   "source": [
    "len(outlier_lof_index)"
   ]
  },
  {
   "cell_type": "code",
   "execution_count": null,
   "metadata": {},
   "outputs": [],
   "source": [
    "df_lof = df.drop(outlier_lof_index)"
   ]
  },
  {
   "cell_type": "code",
   "execution_count": null,
   "metadata": {},
   "outputs": [],
   "source": [
    "df_lof.shape"
   ]
  },
  {
   "cell_type": "code",
   "execution_count": null,
   "metadata": {},
   "outputs": [],
   "source": [
    "X = df_lof.iloc[:, 0:-1].reset_index()\n",
    "y = df_lof.iloc[:,-1].reset_index().drop('index', axis=1)['Target (Column 117)']"
   ]
  },
  {
   "cell_type": "code",
   "execution_count": null,
   "metadata": {},
   "outputs": [],
   "source": [
    "smote = SMOTE(sampling_strategy='minority', random_state = 42)\n",
    "X, y = smote.fit_resample(X, y)\n",
    "\n",
    "y.value_counts()"
   ]
  },
  {
   "cell_type": "code",
   "execution_count": null,
   "metadata": {},
   "outputs": [],
   "source": [
    "sns.countplot(x = y)\n",
    "plt.ylabel('Count')\n",
    "plt.title('Target class count after SMOTE')\n",
    "plt.show();"
   ]
  },
  {
   "cell_type": "code",
   "execution_count": null,
   "metadata": {},
   "outputs": [],
   "source": [
    "scaler = StandardScaler() # Initiate Standardization"
   ]
  },
  {
   "cell_type": "markdown",
   "metadata": {},
   "source": [
    "## Final Voting Classifier"
   ]
  },
  {
   "cell_type": "code",
   "execution_count": null,
   "metadata": {},
   "outputs": [],
   "source": [
    "kf = KFold(n_splits=10, shuffle = True, random_state=42) # Using KFold Cross Validation\n",
    "cv_f1_score_clf = []\n",
    "cv_acc_score_clf = []\n",
    "i=1\n",
    "\n",
    "for train_index,test_index in kf.split(X,y):\n",
    "    print('{} of KFold {}'.format(i,kf.n_splits))\n",
    "    xtr,xvl = X.loc[train_index],X.loc[test_index]\n",
    "    ytr,yvl = y.loc[train_index],y.loc[test_index]\n",
    "\n",
    "    xtr = xtr.drop('index', axis=1)\n",
    "    xvl = xvl.drop('index', axis=1)    \n",
    "\n",
    "    # Standardization\n",
    "    xtr.iloc[:,0:103] = scaler.fit_transform(xtr.iloc[:,0:103])\n",
    "    xvl.iloc[:,0:103] = scaler.transform(xvl.iloc[:,0:103])\n",
    "\n",
    "    # Initiating ML models\n",
    "    clf1 = LogisticRegression(C = 0.615848211066026, penalty = 'l2', random_state=42)\n",
    "    clf2 = RandomForestClassifier(criterion= 'entropy', max_depth = 14, max_features = 55, min_samples_leaf = 9, n_estimators = 125, random_state = 42)\n",
    "    clf3 = SVC(C = 100, gamma = 0.01, kernel = 'rbf', random_state = 42)\n",
    "    clf4 = XGBClassifier(eval_metric='mlogloss', learning_rate = 0.1, max_depth = 5, n_estimators = 140, use_label_encoder=False, random_state  = 42)\n",
    "    clf5 = GaussianNB(var_smoothing = 0.01873817422860384)\n",
    "\n",
    "    # Voting Classifier\n",
    "    v_clf = VotingClassifier(estimators=[('lr', clf1), ('rf', clf2), ('svm', clf3), ('xgb', clf4), ('nb', clf5)], voting='hard')\n",
    "    v_clf = v_clf.fit(xtr,ytr)\n",
    "    score_f1_clf = f1_score(yvl, v_clf.predict(xvl))\n",
    "    score_acc_clf = accuracy_score(yvl, v_clf.predict(xvl))\n",
    "    cv_f1_score_clf.append(score_f1_clf)\n",
    "    cv_acc_score_clf.append(score_acc_clf)\n",
    "    i+=1"
   ]
  },
  {
   "cell_type": "code",
   "execution_count": null,
   "metadata": {},
   "outputs": [],
   "source": [
    "print('Average CV F1 score = ', round(sum(cv_f1_score_clf)/ len(cv_f1_score_clf), 3))\n",
    "print('Average CV accuracy = ', round(sum(cv_acc_score_clf)/ len(cv_acc_score_clf), 3))"
   ]
  },
  {
   "cell_type": "code",
   "execution_count": null,
   "metadata": {},
   "outputs": [],
   "source": [
    "X_test = pd.read_csv(\"Ecoli_test.csv\") # Read Ecoli_test.csv"
   ]
  },
  {
   "cell_type": "code",
   "execution_count": null,
   "metadata": {},
   "outputs": [],
   "source": [
    "y_pred = v_clf.predict(X_test)"
   ]
  },
  {
   "cell_type": "code",
   "execution_count": null,
   "metadata": {},
   "outputs": [],
   "source": [
    "y_pred.shape"
   ]
  },
  {
   "cell_type": "code",
   "execution_count": null,
   "metadata": {},
   "outputs": [],
   "source": [
    "sns.countplot(x = y_pred)\n",
    "plt.ylabel('Count')\n",
    "plt.title('Predicted class Distribution')\n",
    "plt.show();"
   ]
  },
  {
   "cell_type": "code",
   "execution_count": null,
   "metadata": {},
   "outputs": [],
   "source": [
    "np.unique(y_pred, return_counts=True)"
   ]
  },
  {
   "cell_type": "code",
   "execution_count": null,
   "metadata": {},
   "outputs": [],
   "source": [
    "np.savetxt('s4655782.csv', y_pred, delimiter=\",\", fmt='%f')"
   ]
  },
  {
   "cell_type": "code",
   "execution_count": 3,
   "metadata": {},
   "outputs": [],
   "source": [
    "df_x = pd.read_csv(\"s4655782.csv\", header=None)"
   ]
  },
  {
   "cell_type": "code",
   "execution_count": null,
   "metadata": {},
   "outputs": [],
   "source": [
    "sns.countplot(x = df_x.iloc[:,0])\n",
    "plt.ylabel('Count')\n",
    "plt.title('Predicted class Distribution')\n",
    "plt.show();"
   ]
  },
  {
   "cell_type": "code",
   "execution_count": null,
   "metadata": {},
   "outputs": [],
   "source": [
    "df_x.iloc[:,0].value_counts()"
   ]
  },
  {
   "cell_type": "code",
   "execution_count": null,
   "metadata": {},
   "outputs": [],
   "source": [
    "df_x_std = pd.read_csv(\"s4655782_new.csv\", header=None)"
   ]
  },
  {
   "cell_type": "code",
   "execution_count": null,
   "metadata": {},
   "outputs": [],
   "source": [
    "sns.countplot(x = df_x_std.iloc[:,0])\n",
    "plt.ylabel('Count')\n",
    "plt.title('Predicted class Distribution')\n",
    "plt.show();"
   ]
  },
  {
   "cell_type": "code",
   "execution_count": null,
   "metadata": {},
   "outputs": [],
   "source": [
    "df_x_std.iloc[:,0].value_counts()"
   ]
  },
  {
   "cell_type": "code",
   "execution_count": null,
   "metadata": {},
   "outputs": [],
   "source": []
  }
 ],
 "metadata": {
  "kernelspec": {
   "display_name": "Python 3 (ipykernel)",
   "language": "python",
   "name": "python3"
  },
  "language_info": {
   "codemirror_mode": {
    "name": "ipython",
    "version": 3
   },
   "file_extension": ".py",
   "mimetype": "text/x-python",
   "name": "python",
   "nbconvert_exporter": "python",
   "pygments_lexer": "ipython3",
   "version": "3.8.12"
  }
 },
 "nbformat": 4,
 "nbformat_minor": 4
}
