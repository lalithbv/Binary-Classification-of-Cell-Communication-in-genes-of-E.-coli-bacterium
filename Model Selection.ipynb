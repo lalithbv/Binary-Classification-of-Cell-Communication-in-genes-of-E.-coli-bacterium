{
 "cells": [
  {
   "cell_type": "code",
   "execution_count": 49,
   "metadata": {},
   "outputs": [],
   "source": [
    "import numpy as np\n",
    "import pandas as pd\n",
    "import sklearn\n",
    "import scipy\n",
    "import matplotlib.pyplot as plt\n",
    "import seaborn as sns\n",
    "from sklearn.metrics import classification_report,accuracy_score\n",
    "from sklearn.ensemble import IsolationForest\n",
    "from sklearn.neighbors import LocalOutlierFactor\n",
    "from sklearn.svm import OneClassSVM\n",
    "from pylab import rcParams\n",
    "\n",
    "from sklearn.preprocessing import StandardScaler, MinMaxScaler\n",
    "from sklearn.decomposition import PCA\n",
    "from sklearn.pipeline import make_pipeline\n",
    "from sklearn.linear_model import LogisticRegression\n",
    "from sklearn.tree import DecisionTreeClassifier\n",
    "from sklearn.ensemble import RandomForestClassifier, VotingClassifier\n",
    "from sklearn.model_selection import StratifiedKFold\n",
    "from sklearn.neighbors import KNeighborsClassifier\n",
    "from sklearn.naive_bayes import GaussianNB\n",
    "from sklearn.svm import SVC\n",
    "from xgboost import XGBClassifier\n",
    "from sklearn.ensemble import BaggingClassifier\n",
    "from sklearn.model_selection import GridSearchCV\n",
    "from sklearn.ensemble import IsolationForest\n",
    "from imblearn.over_sampling import SMOTE\n",
    "from sklearn.metrics import f1_score, accuracy_score\n",
    "from sklearn.model_selection import train_test_split"
   ]
  },
  {
   "cell_type": "code",
   "execution_count": 50,
   "metadata": {},
   "outputs": [],
   "source": [
    "df = pd.read_csv(\"Ecoli.csv\")"
   ]
  },
  {
   "cell_type": "code",
   "execution_count": 51,
   "metadata": {},
   "outputs": [
    {
     "data": {
      "text/html": [
       "<div>\n",
       "<style scoped>\n",
       "    .dataframe tbody tr th:only-of-type {\n",
       "        vertical-align: middle;\n",
       "    }\n",
       "\n",
       "    .dataframe tbody tr th {\n",
       "        vertical-align: top;\n",
       "    }\n",
       "\n",
       "    .dataframe thead th {\n",
       "        text-align: right;\n",
       "    }\n",
       "</style>\n",
       "<table border=\"1\" class=\"dataframe\">\n",
       "  <thead>\n",
       "    <tr style=\"text-align: right;\">\n",
       "      <th></th>\n",
       "      <th>(Num) Column 1</th>\n",
       "      <th>(Num) Column 2</th>\n",
       "      <th>(Num) Column 3</th>\n",
       "      <th>(Num) Column 4</th>\n",
       "      <th>(Num) Column 5</th>\n",
       "      <th>(Num) Column 6</th>\n",
       "      <th>(Num) Column 7</th>\n",
       "      <th>(Num) Column 8</th>\n",
       "      <th>(Num) Column 9</th>\n",
       "      <th>(Num) Column 10</th>\n",
       "      <th>...</th>\n",
       "      <th>(Nom) Column 108</th>\n",
       "      <th>(Nom) Column 109</th>\n",
       "      <th>(Nom) Column 110</th>\n",
       "      <th>(Nom) Column 111</th>\n",
       "      <th>(Nom) Column 112</th>\n",
       "      <th>(Nom) Column 113</th>\n",
       "      <th>(Nom) Column 114</th>\n",
       "      <th>(Nom) Column 115</th>\n",
       "      <th>(Nom) Column 116</th>\n",
       "      <th>Target (Column 117)</th>\n",
       "    </tr>\n",
       "  </thead>\n",
       "  <tbody>\n",
       "    <tr>\n",
       "      <th>0</th>\n",
       "      <td>1.093167</td>\n",
       "      <td>1.907214</td>\n",
       "      <td>1.006553</td>\n",
       "      <td>0.297721</td>\n",
       "      <td>0.126222</td>\n",
       "      <td>-0.021682</td>\n",
       "      <td>0.062163</td>\n",
       "      <td>0.153486</td>\n",
       "      <td>0.404250</td>\n",
       "      <td>0.234172</td>\n",
       "      <td>...</td>\n",
       "      <td>0.0</td>\n",
       "      <td>0.0</td>\n",
       "      <td>0.0</td>\n",
       "      <td>0.0</td>\n",
       "      <td>0.0</td>\n",
       "      <td>NaN</td>\n",
       "      <td>0.0</td>\n",
       "      <td>0.0</td>\n",
       "      <td>0.0</td>\n",
       "      <td>0</td>\n",
       "    </tr>\n",
       "    <tr>\n",
       "      <th>1</th>\n",
       "      <td>-0.050685</td>\n",
       "      <td>-0.305733</td>\n",
       "      <td>0.109248</td>\n",
       "      <td>0.237569</td>\n",
       "      <td>-0.027954</td>\n",
       "      <td>-0.074576</td>\n",
       "      <td>0.027419</td>\n",
       "      <td>0.252770</td>\n",
       "      <td>1.304381</td>\n",
       "      <td>-0.038999</td>\n",
       "      <td>...</td>\n",
       "      <td>0.0</td>\n",
       "      <td>0.0</td>\n",
       "      <td>1.0</td>\n",
       "      <td>1.0</td>\n",
       "      <td>0.0</td>\n",
       "      <td>0.0</td>\n",
       "      <td>NaN</td>\n",
       "      <td>1.0</td>\n",
       "      <td>0.0</td>\n",
       "      <td>0</td>\n",
       "    </tr>\n",
       "    <tr>\n",
       "      <th>2</th>\n",
       "      <td>-0.652185</td>\n",
       "      <td>0.011298</td>\n",
       "      <td>1.411769</td>\n",
       "      <td>1.351168</td>\n",
       "      <td>0.667879</td>\n",
       "      <td>-0.008032</td>\n",
       "      <td>0.136446</td>\n",
       "      <td>0.058237</td>\n",
       "      <td>-0.669180</td>\n",
       "      <td>-0.178595</td>\n",
       "      <td>...</td>\n",
       "      <td>0.0</td>\n",
       "      <td>0.0</td>\n",
       "      <td>0.0</td>\n",
       "      <td>NaN</td>\n",
       "      <td>0.0</td>\n",
       "      <td>0.0</td>\n",
       "      <td>1.0</td>\n",
       "      <td>1.0</td>\n",
       "      <td>0.0</td>\n",
       "      <td>0</td>\n",
       "    </tr>\n",
       "    <tr>\n",
       "      <th>3</th>\n",
       "      <td>-0.575372</td>\n",
       "      <td>0.072558</td>\n",
       "      <td>-0.338325</td>\n",
       "      <td>1.904284</td>\n",
       "      <td>0.005116</td>\n",
       "      <td>0.008196</td>\n",
       "      <td>-0.327621</td>\n",
       "      <td>-0.473782</td>\n",
       "      <td>-1.542346</td>\n",
       "      <td>-0.393830</td>\n",
       "      <td>...</td>\n",
       "      <td>0.0</td>\n",
       "      <td>NaN</td>\n",
       "      <td>0.0</td>\n",
       "      <td>0.0</td>\n",
       "      <td>0.0</td>\n",
       "      <td>0.0</td>\n",
       "      <td>1.0</td>\n",
       "      <td>1.0</td>\n",
       "      <td>1.0</td>\n",
       "      <td>0</td>\n",
       "    </tr>\n",
       "    <tr>\n",
       "      <th>4</th>\n",
       "      <td>-0.803559</td>\n",
       "      <td>0.091011</td>\n",
       "      <td>0.102247</td>\n",
       "      <td>-0.409790</td>\n",
       "      <td>-0.102239</td>\n",
       "      <td>0.009500</td>\n",
       "      <td>-0.106781</td>\n",
       "      <td>-0.039143</td>\n",
       "      <td>-1.026445</td>\n",
       "      <td>-0.374050</td>\n",
       "      <td>...</td>\n",
       "      <td>0.0</td>\n",
       "      <td>0.0</td>\n",
       "      <td>0.0</td>\n",
       "      <td>0.0</td>\n",
       "      <td>0.0</td>\n",
       "      <td>0.0</td>\n",
       "      <td>0.0</td>\n",
       "      <td>0.0</td>\n",
       "      <td>0.0</td>\n",
       "      <td>0</td>\n",
       "    </tr>\n",
       "  </tbody>\n",
       "</table>\n",
       "<p>5 rows × 117 columns</p>\n",
       "</div>"
      ],
      "text/plain": [
       "   (Num) Column 1   (Num) Column 2  (Num) Column 3  (Num) Column 4  \\\n",
       "0         1.093167        1.907214        1.006553        0.297721   \n",
       "1        -0.050685       -0.305733        0.109248        0.237569   \n",
       "2        -0.652185        0.011298        1.411769        1.351168   \n",
       "3        -0.575372        0.072558       -0.338325        1.904284   \n",
       "4        -0.803559        0.091011        0.102247       -0.409790   \n",
       "\n",
       "   (Num) Column 5  (Num) Column 6  (Num) Column 7  (Num) Column 8  \\\n",
       "0        0.126222       -0.021682        0.062163        0.153486   \n",
       "1       -0.027954       -0.074576        0.027419        0.252770   \n",
       "2        0.667879       -0.008032        0.136446        0.058237   \n",
       "3        0.005116        0.008196       -0.327621       -0.473782   \n",
       "4       -0.102239        0.009500       -0.106781       -0.039143   \n",
       "\n",
       "   (Num) Column 9  (Num) Column 10  ...  (Nom) Column 108  (Nom) Column 109  \\\n",
       "0        0.404250         0.234172  ...               0.0               0.0   \n",
       "1        1.304381        -0.038999  ...               0.0               0.0   \n",
       "2       -0.669180        -0.178595  ...               0.0               0.0   \n",
       "3       -1.542346        -0.393830  ...               0.0               NaN   \n",
       "4       -1.026445        -0.374050  ...               0.0               0.0   \n",
       "\n",
       "   (Nom) Column 110  (Nom) Column 111  (Nom) Column 112  (Nom) Column 113  \\\n",
       "0               0.0               0.0               0.0               NaN   \n",
       "1               1.0               1.0               0.0               0.0   \n",
       "2               0.0               NaN               0.0               0.0   \n",
       "3               0.0               0.0               0.0               0.0   \n",
       "4               0.0               0.0               0.0               0.0   \n",
       "\n",
       "   (Nom) Column 114  (Nom) Column 115  (Nom) Column 116  Target (Column 117)  \n",
       "0               0.0               0.0               0.0                    0  \n",
       "1               NaN               1.0               0.0                    0  \n",
       "2               1.0               1.0               0.0                    0  \n",
       "3               1.0               1.0               1.0                    0  \n",
       "4               0.0               0.0               0.0                    0  \n",
       "\n",
       "[5 rows x 117 columns]"
      ]
     },
     "execution_count": 51,
     "metadata": {},
     "output_type": "execute_result"
    }
   ],
   "source": [
    "df.head()"
   ]
  },
  {
   "cell_type": "code",
   "execution_count": 52,
   "metadata": {},
   "outputs": [
    {
     "data": {
      "text/html": [
       "<div>\n",
       "<style scoped>\n",
       "    .dataframe tbody tr th:only-of-type {\n",
       "        vertical-align: middle;\n",
       "    }\n",
       "\n",
       "    .dataframe tbody tr th {\n",
       "        vertical-align: top;\n",
       "    }\n",
       "\n",
       "    .dataframe thead th {\n",
       "        text-align: right;\n",
       "    }\n",
       "</style>\n",
       "<table border=\"1\" class=\"dataframe\">\n",
       "  <thead>\n",
       "    <tr style=\"text-align: right;\">\n",
       "      <th></th>\n",
       "      <th>(Num) Column 1</th>\n",
       "      <th>(Num) Column 2</th>\n",
       "      <th>(Num) Column 3</th>\n",
       "      <th>(Num) Column 4</th>\n",
       "      <th>(Num) Column 5</th>\n",
       "      <th>(Num) Column 6</th>\n",
       "      <th>(Num) Column 7</th>\n",
       "      <th>(Num) Column 8</th>\n",
       "      <th>(Num) Column 9</th>\n",
       "      <th>(Num) Column 10</th>\n",
       "      <th>...</th>\n",
       "      <th>(Nom) Column 108</th>\n",
       "      <th>(Nom) Column 109</th>\n",
       "      <th>(Nom) Column 110</th>\n",
       "      <th>(Nom) Column 111</th>\n",
       "      <th>(Nom) Column 112</th>\n",
       "      <th>(Nom) Column 113</th>\n",
       "      <th>(Nom) Column 114</th>\n",
       "      <th>(Nom) Column 115</th>\n",
       "      <th>(Nom) Column 116</th>\n",
       "      <th>Target (Column 117)</th>\n",
       "    </tr>\n",
       "  </thead>\n",
       "  <tbody>\n",
       "    <tr>\n",
       "      <th>count</th>\n",
       "      <td>1380.000000</td>\n",
       "      <td>1385.000000</td>\n",
       "      <td>1371.000000</td>\n",
       "      <td>1384.000000</td>\n",
       "      <td>1380.000000</td>\n",
       "      <td>1398.000000</td>\n",
       "      <td>1374.000000</td>\n",
       "      <td>1405.000000</td>\n",
       "      <td>1402.000000</td>\n",
       "      <td>1393.000000</td>\n",
       "      <td>...</td>\n",
       "      <td>1338.000000</td>\n",
       "      <td>1371.000000</td>\n",
       "      <td>1351.000000</td>\n",
       "      <td>1361.000000</td>\n",
       "      <td>1364.000000</td>\n",
       "      <td>1335.000000</td>\n",
       "      <td>1362.000000</td>\n",
       "      <td>1351.000000</td>\n",
       "      <td>1378.000000</td>\n",
       "      <td>1500.000000</td>\n",
       "    </tr>\n",
       "    <tr>\n",
       "      <th>mean</th>\n",
       "      <td>0.301126</td>\n",
       "      <td>-0.079438</td>\n",
       "      <td>0.030678</td>\n",
       "      <td>0.177888</td>\n",
       "      <td>0.063858</td>\n",
       "      <td>0.005272</td>\n",
       "      <td>0.012457</td>\n",
       "      <td>0.023772</td>\n",
       "      <td>-0.047162</td>\n",
       "      <td>-0.103631</td>\n",
       "      <td>...</td>\n",
       "      <td>0.294469</td>\n",
       "      <td>0.253100</td>\n",
       "      <td>0.173205</td>\n",
       "      <td>0.192506</td>\n",
       "      <td>0.065249</td>\n",
       "      <td>0.131086</td>\n",
       "      <td>0.746696</td>\n",
       "      <td>0.749075</td>\n",
       "      <td>0.014514</td>\n",
       "      <td>0.107333</td>\n",
       "    </tr>\n",
       "    <tr>\n",
       "      <th>std</th>\n",
       "      <td>5.224555</td>\n",
       "      <td>4.226729</td>\n",
       "      <td>4.973282</td>\n",
       "      <td>4.357570</td>\n",
       "      <td>2.055092</td>\n",
       "      <td>0.159378</td>\n",
       "      <td>1.369858</td>\n",
       "      <td>1.934108</td>\n",
       "      <td>2.504858</td>\n",
       "      <td>2.334090</td>\n",
       "      <td>...</td>\n",
       "      <td>0.455974</td>\n",
       "      <td>0.434946</td>\n",
       "      <td>0.378565</td>\n",
       "      <td>0.394413</td>\n",
       "      <td>0.247056</td>\n",
       "      <td>0.337621</td>\n",
       "      <td>0.435063</td>\n",
       "      <td>0.433706</td>\n",
       "      <td>0.119639</td>\n",
       "      <td>0.309640</td>\n",
       "    </tr>\n",
       "    <tr>\n",
       "      <th>min</th>\n",
       "      <td>-12.087693</td>\n",
       "      <td>-99.742146</td>\n",
       "      <td>-99.479143</td>\n",
       "      <td>-5.729163</td>\n",
       "      <td>-1.909283</td>\n",
       "      <td>-2.595584</td>\n",
       "      <td>-26.858132</td>\n",
       "      <td>-48.259947</td>\n",
       "      <td>-68.531682</td>\n",
       "      <td>-74.662890</td>\n",
       "      <td>...</td>\n",
       "      <td>0.000000</td>\n",
       "      <td>0.000000</td>\n",
       "      <td>0.000000</td>\n",
       "      <td>0.000000</td>\n",
       "      <td>0.000000</td>\n",
       "      <td>0.000000</td>\n",
       "      <td>0.000000</td>\n",
       "      <td>0.000000</td>\n",
       "      <td>0.000000</td>\n",
       "      <td>0.000000</td>\n",
       "    </tr>\n",
       "    <tr>\n",
       "      <th>25%</th>\n",
       "      <td>-0.634335</td>\n",
       "      <td>-0.695010</td>\n",
       "      <td>-0.441752</td>\n",
       "      <td>-0.608425</td>\n",
       "      <td>-0.274807</td>\n",
       "      <td>-0.014044</td>\n",
       "      <td>-0.237183</td>\n",
       "      <td>-0.181403</td>\n",
       "      <td>-0.508379</td>\n",
       "      <td>-0.333713</td>\n",
       "      <td>...</td>\n",
       "      <td>0.000000</td>\n",
       "      <td>0.000000</td>\n",
       "      <td>0.000000</td>\n",
       "      <td>0.000000</td>\n",
       "      <td>0.000000</td>\n",
       "      <td>0.000000</td>\n",
       "      <td>0.000000</td>\n",
       "      <td>0.000000</td>\n",
       "      <td>0.000000</td>\n",
       "      <td>0.000000</td>\n",
       "    </tr>\n",
       "    <tr>\n",
       "      <th>50%</th>\n",
       "      <td>0.022312</td>\n",
       "      <td>-0.071031</td>\n",
       "      <td>-0.005366</td>\n",
       "      <td>0.013526</td>\n",
       "      <td>0.006423</td>\n",
       "      <td>0.000257</td>\n",
       "      <td>0.026227</td>\n",
       "      <td>0.009421</td>\n",
       "      <td>0.023022</td>\n",
       "      <td>-0.019188</td>\n",
       "      <td>...</td>\n",
       "      <td>0.000000</td>\n",
       "      <td>0.000000</td>\n",
       "      <td>0.000000</td>\n",
       "      <td>0.000000</td>\n",
       "      <td>0.000000</td>\n",
       "      <td>0.000000</td>\n",
       "      <td>1.000000</td>\n",
       "      <td>1.000000</td>\n",
       "      <td>0.000000</td>\n",
       "      <td>0.000000</td>\n",
       "    </tr>\n",
       "    <tr>\n",
       "      <th>75%</th>\n",
       "      <td>0.677605</td>\n",
       "      <td>0.580978</td>\n",
       "      <td>0.425678</td>\n",
       "      <td>0.572284</td>\n",
       "      <td>0.299530</td>\n",
       "      <td>0.014486</td>\n",
       "      <td>0.265871</td>\n",
       "      <td>0.184693</td>\n",
       "      <td>0.515828</td>\n",
       "      <td>0.332000</td>\n",
       "      <td>...</td>\n",
       "      <td>1.000000</td>\n",
       "      <td>1.000000</td>\n",
       "      <td>0.000000</td>\n",
       "      <td>0.000000</td>\n",
       "      <td>0.000000</td>\n",
       "      <td>0.000000</td>\n",
       "      <td>1.000000</td>\n",
       "      <td>1.000000</td>\n",
       "      <td>0.000000</td>\n",
       "      <td>0.000000</td>\n",
       "    </tr>\n",
       "    <tr>\n",
       "      <th>max</th>\n",
       "      <td>105.371433</td>\n",
       "      <td>85.775483</td>\n",
       "      <td>128.358411</td>\n",
       "      <td>128.577337</td>\n",
       "      <td>74.030239</td>\n",
       "      <td>4.490950</td>\n",
       "      <td>26.310561</td>\n",
       "      <td>35.020638</td>\n",
       "      <td>42.830877</td>\n",
       "      <td>1.900067</td>\n",
       "      <td>...</td>\n",
       "      <td>1.000000</td>\n",
       "      <td>1.000000</td>\n",
       "      <td>1.000000</td>\n",
       "      <td>1.000000</td>\n",
       "      <td>1.000000</td>\n",
       "      <td>1.000000</td>\n",
       "      <td>1.000000</td>\n",
       "      <td>1.000000</td>\n",
       "      <td>1.000000</td>\n",
       "      <td>1.000000</td>\n",
       "    </tr>\n",
       "  </tbody>\n",
       "</table>\n",
       "<p>8 rows × 117 columns</p>\n",
       "</div>"
      ],
      "text/plain": [
       "       (Num) Column 1   (Num) Column 2  (Num) Column 3  (Num) Column 4  \\\n",
       "count      1380.000000     1385.000000     1371.000000     1384.000000   \n",
       "mean          0.301126       -0.079438        0.030678        0.177888   \n",
       "std           5.224555        4.226729        4.973282        4.357570   \n",
       "min         -12.087693      -99.742146      -99.479143       -5.729163   \n",
       "25%          -0.634335       -0.695010       -0.441752       -0.608425   \n",
       "50%           0.022312       -0.071031       -0.005366        0.013526   \n",
       "75%           0.677605        0.580978        0.425678        0.572284   \n",
       "max         105.371433       85.775483      128.358411      128.577337   \n",
       "\n",
       "       (Num) Column 5  (Num) Column 6  (Num) Column 7  (Num) Column 8  \\\n",
       "count     1380.000000     1398.000000     1374.000000     1405.000000   \n",
       "mean         0.063858        0.005272        0.012457        0.023772   \n",
       "std          2.055092        0.159378        1.369858        1.934108   \n",
       "min         -1.909283       -2.595584      -26.858132      -48.259947   \n",
       "25%         -0.274807       -0.014044       -0.237183       -0.181403   \n",
       "50%          0.006423        0.000257        0.026227        0.009421   \n",
       "75%          0.299530        0.014486        0.265871        0.184693   \n",
       "max         74.030239        4.490950       26.310561       35.020638   \n",
       "\n",
       "       (Num) Column 9  (Num) Column 10  ...  (Nom) Column 108  \\\n",
       "count     1402.000000      1393.000000  ...       1338.000000   \n",
       "mean        -0.047162        -0.103631  ...          0.294469   \n",
       "std          2.504858         2.334090  ...          0.455974   \n",
       "min        -68.531682       -74.662890  ...          0.000000   \n",
       "25%         -0.508379        -0.333713  ...          0.000000   \n",
       "50%          0.023022        -0.019188  ...          0.000000   \n",
       "75%          0.515828         0.332000  ...          1.000000   \n",
       "max         42.830877         1.900067  ...          1.000000   \n",
       "\n",
       "       (Nom) Column 109  (Nom) Column 110  (Nom) Column 111  (Nom) Column 112  \\\n",
       "count       1371.000000       1351.000000       1361.000000       1364.000000   \n",
       "mean           0.253100          0.173205          0.192506          0.065249   \n",
       "std            0.434946          0.378565          0.394413          0.247056   \n",
       "min            0.000000          0.000000          0.000000          0.000000   \n",
       "25%            0.000000          0.000000          0.000000          0.000000   \n",
       "50%            0.000000          0.000000          0.000000          0.000000   \n",
       "75%            1.000000          0.000000          0.000000          0.000000   \n",
       "max            1.000000          1.000000          1.000000          1.000000   \n",
       "\n",
       "       (Nom) Column 113  (Nom) Column 114  (Nom) Column 115  (Nom) Column 116  \\\n",
       "count       1335.000000       1362.000000       1351.000000       1378.000000   \n",
       "mean           0.131086          0.746696          0.749075          0.014514   \n",
       "std            0.337621          0.435063          0.433706          0.119639   \n",
       "min            0.000000          0.000000          0.000000          0.000000   \n",
       "25%            0.000000          0.000000          0.000000          0.000000   \n",
       "50%            0.000000          1.000000          1.000000          0.000000   \n",
       "75%            0.000000          1.000000          1.000000          0.000000   \n",
       "max            1.000000          1.000000          1.000000          1.000000   \n",
       "\n",
       "       Target (Column 117)  \n",
       "count          1500.000000  \n",
       "mean              0.107333  \n",
       "std               0.309640  \n",
       "min               0.000000  \n",
       "25%               0.000000  \n",
       "50%               0.000000  \n",
       "75%               0.000000  \n",
       "max               1.000000  \n",
       "\n",
       "[8 rows x 117 columns]"
      ]
     },
     "execution_count": 52,
     "metadata": {},
     "output_type": "execute_result"
    }
   ],
   "source": [
    "df.describe()"
   ]
  },
  {
   "cell_type": "code",
   "execution_count": 53,
   "metadata": {},
   "outputs": [
    {
     "name": "stdout",
     "output_type": "stream",
     "text": [
      "<class 'pandas.core.frame.DataFrame'>\n",
      "RangeIndex: 1500 entries, 0 to 1499\n",
      "Columns: 117 entries, (Num) Column 1  to Target (Column 117)\n",
      "dtypes: float64(116), int64(1)\n",
      "memory usage: 1.3 MB\n",
      "None\n"
     ]
    }
   ],
   "source": [
    "print(df.info())"
   ]
  },
  {
   "cell_type": "code",
   "execution_count": 54,
   "metadata": {},
   "outputs": [
    {
     "data": {
      "text/plain": [
       "Index(['(Num) Column 1 ', '(Num) Column 2', '(Num) Column 3', '(Num) Column 4',\n",
       "       '(Num) Column 5', '(Num) Column 6', '(Num) Column 7', '(Num) Column 8',\n",
       "       '(Num) Column 9', '(Num) Column 10',\n",
       "       ...\n",
       "       '(Nom) Column 108', '(Nom) Column 109', '(Nom) Column 110',\n",
       "       '(Nom) Column 111', '(Nom) Column 112', '(Nom) Column 113',\n",
       "       '(Nom) Column 114', '(Nom) Column 115', '(Nom) Column 116',\n",
       "       'Target (Column 117)'],\n",
       "      dtype='object', length=117)"
      ]
     },
     "execution_count": 54,
     "metadata": {},
     "output_type": "execute_result"
    }
   ],
   "source": [
    "df.columns"
   ]
  },
  {
   "cell_type": "code",
   "execution_count": 55,
   "metadata": {},
   "outputs": [
    {
     "data": {
      "text/plain": [
       "0    1339\n",
       "1     161\n",
       "Name: Target (Column 117), dtype: int64"
      ]
     },
     "execution_count": 55,
     "metadata": {},
     "output_type": "execute_result"
    }
   ],
   "source": [
    "df['Target (Column 117)'].value_counts()"
   ]
  },
  {
   "cell_type": "code",
   "execution_count": 56,
   "metadata": {},
   "outputs": [
    {
     "data": {
      "image/png": "[encoded data removed]",
      "text/plain": [
       "<Figure size 600x500 with 1 Axes>"
      ]
     },
     "metadata": {
      "needs_background": "light"
     },
     "output_type": "display_data"
    }
   ],
   "source": [
    "plt.figure(figsize=(6,5), dpi=100)\n",
    "sns.countplot(data=df, x = 'Target (Column 117)', color= \"grey\")\n",
    "plt.ylabel('Count')\n",
    "plt.title('Target class count')\n",
    "plt.show();"
   ]
  },
  {
   "cell_type": "code",
   "execution_count": 57,
   "metadata": {},
   "outputs": [
    {
     "data": {
      "text/plain": [
       "(Num) Column 1         120\n",
       "(Num) Column 2         115\n",
       "(Num) Column 3         129\n",
       "(Num) Column 4         116\n",
       "(Num) Column 5         120\n",
       "                      ... \n",
       "(Nom) Column 113       165\n",
       "(Nom) Column 114       138\n",
       "(Nom) Column 115       149\n",
       "(Nom) Column 116       122\n",
       "Target (Column 117)      0\n",
       "Length: 117, dtype: int64"
      ]
     },
     "execution_count": 57,
     "metadata": {},
     "output_type": "execute_result"
    }
   ],
   "source": [
    "df.isnull().sum()"
   ]
  },
  {
   "cell_type": "code",
   "execution_count": 58,
   "metadata": {},
   "outputs": [
    {
     "data": {
      "image/png": "[encoded data removed]",
      "text/plain": [
       "<Figure size 864x432 with 1 Axes>"
      ]
     },
     "metadata": {
      "needs_background": "light"
     },
     "output_type": "display_data"
    }
   ],
   "source": [
    "df.isnull().mean().plot.bar(figsize=(12,6))\n",
    "plt.ylabel('Percentage of missing values')\n",
    "plt.xlabel('Features')\n",
    "plt.title('Quantifying missing data in percentage')\n",
    "plt.xticks([])\n",
    "plt.show();"
   ]
  },
  {
   "cell_type": "code",
   "execution_count": 59,
   "metadata": {},
   "outputs": [
    {
     "data": {
      "text/plain": [
       "Index(['(Num) Column 1 ', '(Num) Column 2', '(Num) Column 3', '(Num) Column 4',\n",
       "       '(Num) Column 5', '(Num) Column 6', '(Num) Column 7', '(Num) Column 8',\n",
       "       '(Num) Column 9', '(Num) Column 10',\n",
       "       ...\n",
       "       '(Nom) Column 108', '(Nom) Column 109', '(Nom) Column 110',\n",
       "       '(Nom) Column 111', '(Nom) Column 112', '(Nom) Column 113',\n",
       "       '(Nom) Column 114', '(Nom) Column 115', '(Nom) Column 116',\n",
       "       'Target (Column 117)'],\n",
       "      dtype='object', length=117)"
      ]
     },
     "execution_count": 59,
     "metadata": {},
     "output_type": "execute_result"
    }
   ],
   "source": [
    "df.columns"
   ]
  },
  {
   "cell_type": "code",
   "execution_count": 60,
   "metadata": {},
   "outputs": [
    {
     "data": {
      "text/plain": [
       "(1500, 117)"
      ]
     },
     "execution_count": 60,
     "metadata": {},
     "output_type": "execute_result"
    }
   ],
   "source": [
    "df.shape"
   ]
  },
  {
   "cell_type": "code",
   "execution_count": 61,
   "metadata": {},
   "outputs": [
    {
     "data": {
      "text/plain": [
       "array([0, 1], dtype=int64)"
      ]
     },
     "execution_count": 61,
     "metadata": {},
     "output_type": "execute_result"
    }
   ],
   "source": [
    "df['Target (Column 117)'].unique()"
   ]
  },
  {
   "cell_type": "code",
   "execution_count": 62,
   "metadata": {},
   "outputs": [
    {
     "data": {
      "text/plain": [
       "Index(['(Num) Column 1', '(Num) Column 2', '(Num) Column 3', '(Num) Column 4',\n",
       "       '(Num) Column 5', '(Num) Column 6', '(Num) Column 7', '(Num) Column 8',\n",
       "       '(Num) Column 9', '(Num) Column 10',\n",
       "       ...\n",
       "       '(Nom) Column 108', '(Nom) Column 109', '(Nom) Column 110',\n",
       "       '(Nom) Column 111', '(Nom) Column 112', '(Nom) Column 113',\n",
       "       '(Nom) Column 114', '(Nom) Column 115', '(Nom) Column 116',\n",
       "       'Target (Column 117)'],\n",
       "      dtype='object', length=117)"
      ]
     },
     "execution_count": 62,
     "metadata": {},
     "output_type": "execute_result"
    }
   ],
   "source": [
    "# Strip Leading and Trailing Space of the column\n",
    "df.columns = df.columns.str.strip()\n",
    "df.columns"
   ]
  },
  {
   "cell_type": "code",
   "execution_count": 63,
   "metadata": {},
   "outputs": [
    {
     "name": "stdout",
     "output_type": "stream",
     "text": [
      "<class 'pandas.core.frame.DataFrame'>\n",
      "RangeIndex: 1500 entries, 0 to 1499\n",
      "Columns: 117 entries, (Num) Column 1 to Target (Column 117)\n",
      "dtypes: float64(116), int64(1)\n",
      "memory usage: 1.3 MB\n"
     ]
    }
   ],
   "source": [
    "df.info()"
   ]
  },
  {
   "cell_type": "code",
   "execution_count": 64,
   "metadata": {},
   "outputs": [],
   "source": [
    "mask = (df['Target (Column 117)']==0)\n",
    "mode = df[df['Target (Column 117)']==0].iloc[:,103:-1].mode().iloc[0]\n",
    "df = df.mask(mask, df.fillna(mode))"
   ]
  },
  {
   "cell_type": "code",
   "execution_count": 65,
   "metadata": {},
   "outputs": [],
   "source": [
    "mask = (df['Target (Column 117)']==1)\n",
    "mode = df[df['Target (Column 117)']==1].iloc[:,103:-1].mode().iloc[0]\n",
    "df = df.mask(mask, df.fillna(mode))"
   ]
  },
  {
   "cell_type": "code",
   "execution_count": 66,
   "metadata": {},
   "outputs": [],
   "source": [
    "mask = (df['Target (Column 117)']==0)\n",
    "median = df[df['Target (Column 117)']==0].iloc[:,0:103].median()\n",
    "df = df.mask(mask, df.fillna(median))"
   ]
  },
  {
   "cell_type": "code",
   "execution_count": 67,
   "metadata": {},
   "outputs": [],
   "source": [
    "mask = (df['Target (Column 117)']==1)\n",
    "median = df[df['Target (Column 117)']==1].iloc[:,0:103].median()\n",
    "df = df.mask(mask, df.fillna(median))"
   ]
  },
  {
   "cell_type": "code",
   "execution_count": 68,
   "metadata": {},
   "outputs": [
    {
     "data": {
      "image/png": "[encoded data removed]",
      "text/plain": [
       "<Figure size 1296x576 with 1 Axes>"
      ]
     },
     "metadata": {
      "needs_background": "light"
     },
     "output_type": "display_data"
    }
   ],
   "source": [
    "df.isnull().mean().plot.bar(figsize=(18,8))\n",
    "plt.ylabel('Percentage of missing values')\n",
    "plt.xlabel('Features')\n",
    "plt.title('Quantifying missing data in percentage')\n",
    "\n",
    "plt.show();"
   ]
  },
  {
   "cell_type": "code",
   "execution_count": 69,
   "metadata": {},
   "outputs": [],
   "source": [
    "for i in df.columns:\n",
    "    if i[:5] == \"(Nom)\":\n",
    "        df[i] = df[i].astype('int')"
   ]
  },
  {
   "cell_type": "code",
   "execution_count": 70,
   "metadata": {},
   "outputs": [],
   "source": [
    "X = df.iloc[:, 0:-1]\n",
    "y = df.iloc[:,-1]"
   ]
  },
  {
   "cell_type": "code",
   "execution_count": 71,
   "metadata": {},
   "outputs": [
    {
     "data": {
      "text/plain": [
       "(1500, 116)"
      ]
     },
     "execution_count": 71,
     "metadata": {},
     "output_type": "execute_result"
    }
   ],
   "source": [
    "X.shape"
   ]
  },
  {
   "cell_type": "code",
   "execution_count": 72,
   "metadata": {},
   "outputs": [
    {
     "data": {
      "text/plain": [
       "1500"
      ]
     },
     "execution_count": 72,
     "metadata": {},
     "output_type": "execute_result"
    }
   ],
   "source": [
    "len(y)"
   ]
  },
  {
   "cell_type": "code",
   "execution_count": 73,
   "metadata": {},
   "outputs": [
    {
     "name": "stdout",
     "output_type": "stream",
     "text": [
      "<class 'pandas.core.frame.DataFrame'>\n",
      "RangeIndex: 1500 entries, 0 to 1499\n",
      "Columns: 117 entries, (Num) Column 1 to Target (Column 117)\n",
      "dtypes: float64(103), int32(13), int64(1)\n",
      "memory usage: 1.3 MB\n"
     ]
    }
   ],
   "source": [
    "df.info()"
   ]
  },
  {
   "cell_type": "code",
   "execution_count": 74,
   "metadata": {},
   "outputs": [
    {
     "data": {
      "text/plain": [
       "(1500, 117)"
      ]
     },
     "execution_count": 74,
     "metadata": {},
     "output_type": "execute_result"
    }
   ],
   "source": [
    "df.shape"
   ]
  },
  {
   "cell_type": "code",
   "execution_count": 75,
   "metadata": {},
   "outputs": [],
   "source": [
    "lof = LocalOutlierFactor()"
   ]
  },
  {
   "cell_type": "code",
   "execution_count": 76,
   "metadata": {},
   "outputs": [],
   "source": [
    "outliers = lof.fit_predict(X) # Predict the labels (1 inlier, -1 outlier) of X according to LOF."
   ]
  },
  {
   "cell_type": "code",
   "execution_count": 77,
   "metadata": {},
   "outputs": [
    {
     "data": {
      "text/plain": [
       "(array([-1,  1]), array([  47, 1453], dtype=int64))"
      ]
     },
     "execution_count": 77,
     "metadata": {},
     "output_type": "execute_result"
    }
   ],
   "source": [
    "np.unique(outliers, return_counts=True)"
   ]
  },
  {
   "cell_type": "code",
   "execution_count": 78,
   "metadata": {},
   "outputs": [
    {
     "data": {
      "text/plain": [
       "array([1, 1, 1, ..., 1, 1, 1])"
      ]
     },
     "execution_count": 78,
     "metadata": {},
     "output_type": "execute_result"
    }
   ],
   "source": [
    "outliers"
   ]
  },
  {
   "cell_type": "code",
   "execution_count": 79,
   "metadata": {},
   "outputs": [
    {
     "data": {
      "text/plain": [
       "(1500,)"
      ]
     },
     "execution_count": 79,
     "metadata": {},
     "output_type": "execute_result"
    }
   ],
   "source": [
    "outliers.shape"
   ]
  },
  {
   "cell_type": "code",
   "execution_count": 80,
   "metadata": {},
   "outputs": [],
   "source": [
    "outlier_lof_index = []\n",
    "for i, k in enumerate(outliers):\n",
    "    if k == -1:\n",
    "        outlier_lof_index.append(i)"
   ]
  },
  {
   "cell_type": "code",
   "execution_count": 81,
   "metadata": {},
   "outputs": [
    {
     "data": {
      "text/plain": [
       "47"
      ]
     },
     "execution_count": 81,
     "metadata": {},
     "output_type": "execute_result"
    }
   ],
   "source": [
    "len(outlier_lof_index)"
   ]
  },
  {
   "cell_type": "code",
   "execution_count": 82,
   "metadata": {},
   "outputs": [
    {
     "data": {
      "text/html": [
       "<div>\n",
       "<style scoped>\n",
       "    .dataframe tbody tr th:only-of-type {\n",
       "        vertical-align: middle;\n",
       "    }\n",
       "\n",
       "    .dataframe tbody tr th {\n",
       "        vertical-align: top;\n",
       "    }\n",
       "\n",
       "    .dataframe thead th {\n",
       "        text-align: right;\n",
       "    }\n",
       "</style>\n",
       "<table border=\"1\" class=\"dataframe\">\n",
       "  <thead>\n",
       "    <tr style=\"text-align: right;\">\n",
       "      <th></th>\n",
       "      <th>(Num) Column 1</th>\n",
       "      <th>(Num) Column 2</th>\n",
       "      <th>(Num) Column 3</th>\n",
       "      <th>(Num) Column 4</th>\n",
       "      <th>(Num) Column 5</th>\n",
       "      <th>(Num) Column 6</th>\n",
       "      <th>(Num) Column 7</th>\n",
       "      <th>(Num) Column 8</th>\n",
       "      <th>(Num) Column 9</th>\n",
       "      <th>(Num) Column 10</th>\n",
       "      <th>...</th>\n",
       "      <th>(Nom) Column 108</th>\n",
       "      <th>(Nom) Column 109</th>\n",
       "      <th>(Nom) Column 110</th>\n",
       "      <th>(Nom) Column 111</th>\n",
       "      <th>(Nom) Column 112</th>\n",
       "      <th>(Nom) Column 113</th>\n",
       "      <th>(Nom) Column 114</th>\n",
       "      <th>(Nom) Column 115</th>\n",
       "      <th>(Nom) Column 116</th>\n",
       "      <th>Target (Column 117)</th>\n",
       "    </tr>\n",
       "  </thead>\n",
       "  <tbody>\n",
       "    <tr>\n",
       "      <th>0</th>\n",
       "      <td>1.093167</td>\n",
       "      <td>1.907214</td>\n",
       "      <td>1.006553</td>\n",
       "      <td>0.297721</td>\n",
       "      <td>0.126222</td>\n",
       "      <td>-0.021682</td>\n",
       "      <td>0.062163</td>\n",
       "      <td>0.153486</td>\n",
       "      <td>0.404250</td>\n",
       "      <td>0.234172</td>\n",
       "      <td>...</td>\n",
       "      <td>0</td>\n",
       "      <td>0</td>\n",
       "      <td>0</td>\n",
       "      <td>0</td>\n",
       "      <td>0</td>\n",
       "      <td>0</td>\n",
       "      <td>0</td>\n",
       "      <td>0</td>\n",
       "      <td>0</td>\n",
       "      <td>0</td>\n",
       "    </tr>\n",
       "    <tr>\n",
       "      <th>1</th>\n",
       "      <td>-0.050685</td>\n",
       "      <td>-0.305733</td>\n",
       "      <td>0.109248</td>\n",
       "      <td>0.237569</td>\n",
       "      <td>-0.027954</td>\n",
       "      <td>-0.074576</td>\n",
       "      <td>0.027419</td>\n",
       "      <td>0.252770</td>\n",
       "      <td>1.304381</td>\n",
       "      <td>-0.038999</td>\n",
       "      <td>...</td>\n",
       "      <td>0</td>\n",
       "      <td>0</td>\n",
       "      <td>1</td>\n",
       "      <td>1</td>\n",
       "      <td>0</td>\n",
       "      <td>0</td>\n",
       "      <td>1</td>\n",
       "      <td>1</td>\n",
       "      <td>0</td>\n",
       "      <td>0</td>\n",
       "    </tr>\n",
       "    <tr>\n",
       "      <th>2</th>\n",
       "      <td>-0.652185</td>\n",
       "      <td>0.011298</td>\n",
       "      <td>1.411769</td>\n",
       "      <td>1.351168</td>\n",
       "      <td>0.667879</td>\n",
       "      <td>-0.008032</td>\n",
       "      <td>0.136446</td>\n",
       "      <td>0.058237</td>\n",
       "      <td>-0.669180</td>\n",
       "      <td>-0.178595</td>\n",
       "      <td>...</td>\n",
       "      <td>0</td>\n",
       "      <td>0</td>\n",
       "      <td>0</td>\n",
       "      <td>0</td>\n",
       "      <td>0</td>\n",
       "      <td>0</td>\n",
       "      <td>1</td>\n",
       "      <td>1</td>\n",
       "      <td>0</td>\n",
       "      <td>0</td>\n",
       "    </tr>\n",
       "    <tr>\n",
       "      <th>3</th>\n",
       "      <td>-0.575372</td>\n",
       "      <td>0.072558</td>\n",
       "      <td>-0.338325</td>\n",
       "      <td>1.904284</td>\n",
       "      <td>0.005116</td>\n",
       "      <td>0.008196</td>\n",
       "      <td>-0.327621</td>\n",
       "      <td>-0.473782</td>\n",
       "      <td>-1.542346</td>\n",
       "      <td>-0.393830</td>\n",
       "      <td>...</td>\n",
       "      <td>0</td>\n",
       "      <td>0</td>\n",
       "      <td>0</td>\n",
       "      <td>0</td>\n",
       "      <td>0</td>\n",
       "      <td>0</td>\n",
       "      <td>1</td>\n",
       "      <td>1</td>\n",
       "      <td>1</td>\n",
       "      <td>0</td>\n",
       "    </tr>\n",
       "    <tr>\n",
       "      <th>4</th>\n",
       "      <td>-0.803559</td>\n",
       "      <td>0.091011</td>\n",
       "      <td>0.102247</td>\n",
       "      <td>-0.409790</td>\n",
       "      <td>-0.102239</td>\n",
       "      <td>0.009500</td>\n",
       "      <td>-0.106781</td>\n",
       "      <td>-0.039143</td>\n",
       "      <td>-1.026445</td>\n",
       "      <td>-0.374050</td>\n",
       "      <td>...</td>\n",
       "      <td>0</td>\n",
       "      <td>0</td>\n",
       "      <td>0</td>\n",
       "      <td>0</td>\n",
       "      <td>0</td>\n",
       "      <td>0</td>\n",
       "      <td>0</td>\n",
       "      <td>0</td>\n",
       "      <td>0</td>\n",
       "      <td>0</td>\n",
       "    </tr>\n",
       "  </tbody>\n",
       "</table>\n",
       "<p>5 rows × 117 columns</p>\n",
       "</div>"
      ],
      "text/plain": [
       "   (Num) Column 1  (Num) Column 2  (Num) Column 3  (Num) Column 4  \\\n",
       "0        1.093167        1.907214        1.006553        0.297721   \n",
       "1       -0.050685       -0.305733        0.109248        0.237569   \n",
       "2       -0.652185        0.011298        1.411769        1.351168   \n",
       "3       -0.575372        0.072558       -0.338325        1.904284   \n",
       "4       -0.803559        0.091011        0.102247       -0.409790   \n",
       "\n",
       "   (Num) Column 5  (Num) Column 6  (Num) Column 7  (Num) Column 8  \\\n",
       "0        0.126222       -0.021682        0.062163        0.153486   \n",
       "1       -0.027954       -0.074576        0.027419        0.252770   \n",
       "2        0.667879       -0.008032        0.136446        0.058237   \n",
       "3        0.005116        0.008196       -0.327621       -0.473782   \n",
       "4       -0.102239        0.009500       -0.106781       -0.039143   \n",
       "\n",
       "   (Num) Column 9  (Num) Column 10  ...  (Nom) Column 108  (Nom) Column 109  \\\n",
       "0        0.404250         0.234172  ...                 0                 0   \n",
       "1        1.304381        -0.038999  ...                 0                 0   \n",
       "2       -0.669180        -0.178595  ...                 0                 0   \n",
       "3       -1.542346        -0.393830  ...                 0                 0   \n",
       "4       -1.026445        -0.374050  ...                 0                 0   \n",
       "\n",
       "   (Nom) Column 110  (Nom) Column 111  (Nom) Column 112  (Nom) Column 113  \\\n",
       "0                 0                 0                 0                 0   \n",
       "1                 1                 1                 0                 0   \n",
       "2                 0                 0                 0                 0   \n",
       "3                 0                 0                 0                 0   \n",
       "4                 0                 0                 0                 0   \n",
       "\n",
       "   (Nom) Column 114  (Nom) Column 115  (Nom) Column 116  Target (Column 117)  \n",
       "0                 0                 0                 0                    0  \n",
       "1                 1                 1                 0                    0  \n",
       "2                 1                 1                 0                    0  \n",
       "3                 1                 1                 1                    0  \n",
       "4                 0                 0                 0                    0  \n",
       "\n",
       "[5 rows x 117 columns]"
      ]
     },
     "execution_count": 82,
     "metadata": {},
     "output_type": "execute_result"
    }
   ],
   "source": [
    "df.head()"
   ]
  },
  {
   "cell_type": "code",
   "execution_count": 83,
   "metadata": {},
   "outputs": [],
   "source": [
    "df_lof = df.drop(outlier_lof_index)"
   ]
  },
  {
   "cell_type": "code",
   "execution_count": 84,
   "metadata": {},
   "outputs": [
    {
     "data": {
      "text/plain": [
       "(1453, 117)"
      ]
     },
     "execution_count": 84,
     "metadata": {},
     "output_type": "execute_result"
    }
   ],
   "source": [
    "df_lof.shape"
   ]
  },
  {
   "cell_type": "code",
   "execution_count": 85,
   "metadata": {},
   "outputs": [],
   "source": [
    "X = df_lof.iloc[:, 0:-1].reset_index()\n",
    "y = df_lof.iloc[:,-1].reset_index().drop('index', axis=1)['Target (Column 117)']"
   ]
  },
  {
   "cell_type": "code",
   "execution_count": 86,
   "metadata": {},
   "outputs": [
    {
     "data": {
      "text/plain": [
       "0    1294\n",
       "1    1294\n",
       "Name: Target (Column 117), dtype: int64"
      ]
     },
     "execution_count": 86,
     "metadata": {},
     "output_type": "execute_result"
    }
   ],
   "source": [
    "smote = SMOTE(sampling_strategy='minority')\n",
    "X, y = smote.fit_resample(X, y)\n",
    "\n",
    "y.value_counts()"
   ]
  },
  {
   "cell_type": "code",
   "execution_count": 87,
   "metadata": {},
   "outputs": [
    {
     "data": {
      "image/png": "[encoded data removed]",
      "text/plain": [
       "<Figure size 600x500 with 1 Axes>"
      ]
     },
     "metadata": {
      "needs_background": "light"
     },
     "output_type": "display_data"
    }
   ],
   "source": [
    "plt.figure(figsize=(6,5), dpi=100)\n",
    "sns.countplot(x = y, color= \"grey\")\n",
    "plt.ylabel('Count')\n",
    "plt.title('Target class count')\n",
    "plt.show();"
   ]
  },
  {
   "cell_type": "code",
   "execution_count": 88,
   "metadata": {},
   "outputs": [],
   "source": [
    "scaler = StandardScaler()"
   ]
  },
  {
   "cell_type": "markdown",
   "metadata": {},
   "source": [
    "## 1) DT"
   ]
  },
  {
   "cell_type": "code",
   "execution_count": 89,
   "metadata": {},
   "outputs": [],
   "source": [
    "param_dict = {\"criterion\": [\"gini\", \"entropy\"], \n",
    "              \"max_depth\": list(range(2, 15)), \n",
    "              \"min_samples_leaf\":  list(range(1, 15))}"
   ]
  },
  {
   "cell_type": "code",
   "execution_count": 90,
   "metadata": {},
   "outputs": [
    {
     "name": "stdout",
     "output_type": "stream",
     "text": [
      "Fitting 5 folds for each of 364 candidates, totalling 1820 fits\n"
     ]
    },
    {
     "data": {
      "text/plain": [
       "GridSearchCV(cv=5, estimator=DecisionTreeClassifier(random_state=42),\n",
       "             param_grid={'criterion': ['gini', 'entropy'],\n",
       "                         'max_depth': [2, 3, 4, 5, 6, 7, 8, 9, 10, 11, 12, 13,\n",
       "                                       14],\n",
       "                         'min_samples_leaf': [1, 2, 3, 4, 5, 6, 7, 8, 9, 10, 11,\n",
       "                                              12, 13, 14]},\n",
       "             scoring='f1', verbose=1)"
      ]
     },
     "execution_count": 90,
     "metadata": {},
     "output_type": "execute_result"
    }
   ],
   "source": [
    "import warnings\n",
    "warnings.filterwarnings('ignore')\n",
    "\n",
    "X_train, X_test, y_train, y_test = train_test_split(X, y, test_size = 0.3, random_state = 42, stratify = y)\n",
    "\n",
    "#Standardization\n",
    "X_train.iloc[:,0:103] = scaler.fit_transform(X_train.iloc[:,0:103])\n",
    "X_test.iloc[:,0:103] = scaler.transform(X_test.iloc[:,0:103])\n",
    "#model\n",
    "dt = DecisionTreeClassifier(random_state=42)\n",
    "model = GridSearchCV(dt, param_dict, cv = 5, verbose=1, scoring='f1')\n",
    "model.fit(X_train,y_train)"
   ]
  },
  {
   "cell_type": "code",
   "execution_count": 91,
   "metadata": {},
   "outputs": [
    {
     "data": {
      "text/plain": [
       "{'criterion': 'entropy', 'max_depth': 14, 'min_samples_leaf': 9}"
      ]
     },
     "execution_count": 91,
     "metadata": {},
     "output_type": "execute_result"
    }
   ],
   "source": [
    "#checking the selected permutation of parameters\n",
    "model.best_params_"
   ]
  },
  {
   "cell_type": "code",
   "execution_count": 92,
   "metadata": {},
   "outputs": [
    {
     "data": {
      "text/plain": [
       "0.9347258485639687"
      ]
     },
     "execution_count": 92,
     "metadata": {},
     "output_type": "execute_result"
    }
   ],
   "source": [
    "#checking how well the model does on the holdout-set\n",
    "model.score(X_test,y_test)"
   ]
  },
  {
   "cell_type": "code",
   "execution_count": 93,
   "metadata": {},
   "outputs": [
    {
     "data": {
      "text/plain": [
       "0.9451706545986319"
      ]
     },
     "execution_count": 93,
     "metadata": {},
     "output_type": "execute_result"
    }
   ],
   "source": [
    "model.best_score_"
   ]
  },
  {
   "cell_type": "markdown",
   "metadata": {},
   "source": [
    "## 2) RF"
   ]
  },
  {
   "cell_type": "code",
   "execution_count": 94,
   "metadata": {},
   "outputs": [],
   "source": [
    "param_dict = {\"criterion\": [\"entropy\"], \n",
    "              \"max_depth\": [3, 5, 14],\n",
    "              \"min_samples_leaf\":  [5, 6, 9, 12], \n",
    "              \"n_estimators\" : [125], \n",
    "              \"max_features\": [40, 50, 55, 60, 70]}"
   ]
  },
  {
   "cell_type": "code",
   "execution_count": 95,
   "metadata": {},
   "outputs": [
    {
     "name": "stdout",
     "output_type": "stream",
     "text": [
      "Fitting 5 folds for each of 60 candidates, totalling 300 fits\n"
     ]
    },
    {
     "data": {
      "text/plain": [
       "GridSearchCV(cv=5, estimator=RandomForestClassifier(random_state=42),\n",
       "             param_grid={'criterion': ['entropy'], 'max_depth': [3, 5, 14],\n",
       "                         'max_features': [40, 50, 55, 60, 70],\n",
       "                         'min_samples_leaf': [5, 6, 9, 12],\n",
       "                         'n_estimators': [125]},\n",
       "             scoring='f1', verbose=1)"
      ]
     },
     "execution_count": 95,
     "metadata": {},
     "output_type": "execute_result"
    }
   ],
   "source": [
    "import warnings\n",
    "warnings.filterwarnings('ignore')\n",
    "\n",
    "X_train, X_test, y_train, y_test = train_test_split(X, y, test_size = 0.3, random_state = 42, stratify = y)\n",
    "\n",
    "#Standardization\n",
    "X_train.iloc[:,0:103] = scaler.fit_transform(X_train.iloc[:,0:103])\n",
    "X_test.iloc[:,0:103] = scaler.transform(X_test.iloc[:,0:103])\n",
    "#model\n",
    "rf = RandomForestClassifier(random_state=42)\n",
    "model = GridSearchCV(rf, param_dict, cv = 5, verbose=1, scoring='f1')\n",
    "model.fit(X_train,y_train)"
   ]
  },
  {
   "cell_type": "code",
   "execution_count": 96,
   "metadata": {},
   "outputs": [
    {
     "data": {
      "text/plain": [
       "{'criterion': 'entropy',\n",
       " 'max_depth': 14,\n",
       " 'max_features': 55,\n",
       " 'min_samples_leaf': 6,\n",
       " 'n_estimators': 125}"
      ]
     },
     "execution_count": 96,
     "metadata": {},
     "output_type": "execute_result"
    }
   ],
   "source": [
    "#checking the selected permutation of parameters\n",
    "model.best_params_"
   ]
  },
  {
   "cell_type": "code",
   "execution_count": 97,
   "metadata": {},
   "outputs": [
    {
     "data": {
      "text/plain": [
       "0.9673202614379086"
      ]
     },
     "execution_count": 97,
     "metadata": {},
     "output_type": "execute_result"
    }
   ],
   "source": [
    "#checking how well the model does on the holdout-set\n",
    "model.score(X_test,y_test)"
   ]
  },
  {
   "cell_type": "code",
   "execution_count": 98,
   "metadata": {
    "scrolled": true
   },
   "outputs": [
    {
     "data": {
      "text/plain": [
       "0.968265390329463"
      ]
     },
     "execution_count": 98,
     "metadata": {},
     "output_type": "execute_result"
    }
   ],
   "source": [
    "model.best_score_"
   ]
  },
  {
   "cell_type": "markdown",
   "metadata": {},
   "source": [
    "## 3) K-NN"
   ]
  },
  {
   "cell_type": "code",
   "execution_count": 99,
   "metadata": {},
   "outputs": [],
   "source": [
    "param_dict = {\"n_neighbors\": list(range(1,30)), \n",
    "              \"weights\": [\"uniform\", \"distance\"],\n",
    "              \"metric\": ['euclidean', 'manhattan', 'chebyshev', 'minkowski']}"
   ]
  },
  {
   "cell_type": "code",
   "execution_count": 100,
   "metadata": {},
   "outputs": [
    {
     "name": "stdout",
     "output_type": "stream",
     "text": [
      "Fitting 5 folds for each of 232 candidates, totalling 1160 fits\n"
     ]
    },
    {
     "data": {
      "text/plain": [
       "GridSearchCV(cv=5, estimator=KNeighborsClassifier(),\n",
       "             param_grid={'metric': ['euclidean', 'manhattan', 'chebyshev',\n",
       "                                    'minkowski'],\n",
       "                         'n_neighbors': [1, 2, 3, 4, 5, 6, 7, 8, 9, 10, 11, 12,\n",
       "                                         13, 14, 15, 16, 17, 18, 19, 20, 21, 22,\n",
       "                                         23, 24, 25, 26, 27, 28, 29],\n",
       "                         'weights': ['uniform', 'distance']},\n",
       "             scoring='f1', verbose=1)"
      ]
     },
     "execution_count": 100,
     "metadata": {},
     "output_type": "execute_result"
    }
   ],
   "source": [
    "import warnings\n",
    "warnings.filterwarnings('ignore')\n",
    "\n",
    "X_train, X_test, y_train, y_test = train_test_split(X, y, test_size = 0.3, random_state = 42, stratify = y)\n",
    "\n",
    "#Standardization\n",
    "X_train.iloc[:,0:103] = scaler.fit_transform(X_train.iloc[:,0:103])\n",
    "X_test.iloc[:,0:103] = scaler.transform(X_test.iloc[:,0:103])\n",
    "#model\n",
    "knn = KNeighborsClassifier()\n",
    "model = GridSearchCV(knn, param_dict, cv = 5, verbose=1, scoring='f1')\n",
    "model.fit(X_train,y_train)"
   ]
  },
  {
   "cell_type": "code",
   "execution_count": 101,
   "metadata": {},
   "outputs": [
    {
     "data": {
      "text/plain": [
       "{'metric': 'chebyshev', 'n_neighbors': 2, 'weights': 'uniform'}"
      ]
     },
     "execution_count": 101,
     "metadata": {},
     "output_type": "execute_result"
    }
   ],
   "source": [
    "#checking the selected permutation of parameters\n",
    "model.best_params_"
   ]
  },
  {
   "cell_type": "code",
   "execution_count": 102,
   "metadata": {},
   "outputs": [
    {
     "data": {
      "text/plain": [
       "0.7838383838383839"
      ]
     },
     "execution_count": 102,
     "metadata": {},
     "output_type": "execute_result"
    }
   ],
   "source": [
    "#checking how well the model does on the holdout-set\n",
    "model.score(X_test,y_test)"
   ]
  },
  {
   "cell_type": "code",
   "execution_count": 103,
   "metadata": {},
   "outputs": [
    {
     "data": {
      "text/plain": [
       "0.7784468789592306"
      ]
     },
     "execution_count": 103,
     "metadata": {},
     "output_type": "execute_result"
    }
   ],
   "source": [
    "model.best_score_"
   ]
  },
  {
   "cell_type": "markdown",
   "metadata": {},
   "source": [
    "## 4) Naïve Bayes classifier"
   ]
  },
  {
   "cell_type": "code",
   "execution_count": 104,
   "metadata": {},
   "outputs": [],
   "source": [
    "param_dict = {'var_smoothing': np.logspace(0,-9, num=100)}"
   ]
  },
  {
   "cell_type": "code",
   "execution_count": 105,
   "metadata": {},
   "outputs": [
    {
     "name": "stdout",
     "output_type": "stream",
     "text": [
      "Fitting 5 folds for each of 100 candidates, totalling 500 fits\n"
     ]
    },
    {
     "data": {
      "text/plain": [
       "GridSearchCV(cv=5, estimator=GaussianNB(),\n",
       "             param_grid={'var_smoothing': array([1.00000000e+00, 8.11130831e-01, 6.57933225e-01, 5.33669923e-01,\n",
       "       4.32876128e-01, 3.51119173e-01, 2.84803587e-01, 2.31012970e-01,\n",
       "       1.87381742e-01, 1.51991108e-01, 1.23284674e-01, 1.00000000e-01,\n",
       "       8.11130831e-02, 6.57933225e-02, 5.33669923e-02, 4.32876128e-02,\n",
       "       3.51119173e-02, 2.84803587e-02, 2.31...\n",
       "       1.23284674e-07, 1.00000000e-07, 8.11130831e-08, 6.57933225e-08,\n",
       "       5.33669923e-08, 4.32876128e-08, 3.51119173e-08, 2.84803587e-08,\n",
       "       2.31012970e-08, 1.87381742e-08, 1.51991108e-08, 1.23284674e-08,\n",
       "       1.00000000e-08, 8.11130831e-09, 6.57933225e-09, 5.33669923e-09,\n",
       "       4.32876128e-09, 3.51119173e-09, 2.84803587e-09, 2.31012970e-09,\n",
       "       1.87381742e-09, 1.51991108e-09, 1.23284674e-09, 1.00000000e-09])},\n",
       "             scoring='f1', verbose=1)"
      ]
     },
     "execution_count": 105,
     "metadata": {},
     "output_type": "execute_result"
    }
   ],
   "source": [
    "import warnings\n",
    "warnings.filterwarnings('ignore')\n",
    "\n",
    "X_train, X_test, y_train, y_test = train_test_split(X, y, test_size = 0.3, random_state = 42, stratify = y)\n",
    "\n",
    "#Standardization\n",
    "X_train.iloc[:,0:103] = scaler.fit_transform(X_train.iloc[:,0:103])\n",
    "X_test.iloc[:,0:103] = scaler.transform(X_test.iloc[:,0:103])\n",
    "#model\n",
    "nb = GaussianNB()\n",
    "model = GridSearchCV(nb, param_dict, cv = 5, verbose=1, scoring='f1')\n",
    "model.fit(X_train,y_train)"
   ]
  },
  {
   "cell_type": "code",
   "execution_count": 106,
   "metadata": {},
   "outputs": [
    {
     "data": {
      "text/plain": [
       "{'var_smoothing': 0.01873817422860384}"
      ]
     },
     "execution_count": 106,
     "metadata": {},
     "output_type": "execute_result"
    }
   ],
   "source": [
    "#checking the selected permutation of parameters\n",
    "model.best_params_"
   ]
  },
  {
   "cell_type": "code",
   "execution_count": 107,
   "metadata": {},
   "outputs": [
    {
     "data": {
      "text/plain": [
       "0.9505208333333333"
      ]
     },
     "execution_count": 107,
     "metadata": {},
     "output_type": "execute_result"
    }
   ],
   "source": [
    "#checking how well the model does on the holdout-set\n",
    "model.score(X_test,y_test)"
   ]
  },
  {
   "cell_type": "code",
   "execution_count": 108,
   "metadata": {},
   "outputs": [
    {
     "data": {
      "text/plain": [
       "0.9394225600545181"
      ]
     },
     "execution_count": 108,
     "metadata": {},
     "output_type": "execute_result"
    }
   ],
   "source": [
    "model.best_score_"
   ]
  },
  {
   "cell_type": "markdown",
   "metadata": {},
   "source": [
    "## PCA"
   ]
  },
  {
   "cell_type": "code",
   "execution_count": 109,
   "metadata": {},
   "outputs": [],
   "source": [
    "from sklearn.decomposition import PCA\n",
    "from sklearn.pipeline import Pipeline\n",
    "pca = PCA()"
   ]
  },
  {
   "cell_type": "code",
   "execution_count": 110,
   "metadata": {},
   "outputs": [
    {
     "data": {
      "text/plain": [
       "[30, 35, 40, 45, 50, 55, 60, 65, 70, 75, 80]"
      ]
     },
     "execution_count": 110,
     "metadata": {},
     "output_type": "execute_result"
    }
   ],
   "source": [
    "list(range(30,81,5))"
   ]
  },
  {
   "cell_type": "code",
   "execution_count": 111,
   "metadata": {},
   "outputs": [],
   "source": [
    "param_dict = {\"pca__n_components\":list(range(30,81,5))}"
   ]
  },
  {
   "cell_type": "code",
   "execution_count": 112,
   "metadata": {},
   "outputs": [
    {
     "data": {
      "text/plain": [
       "GridSearchCV(cv=5,\n",
       "             estimator=Pipeline(steps=[('pca', PCA()),\n",
       "                                       ('forest',\n",
       "                                        RandomForestClassifier(max_depth=5,\n",
       "                                                               max_features=40,\n",
       "                                                               min_samples_leaf=3,\n",
       "                                                               n_estimators=125,\n",
       "                                                               random_state=42))]),\n",
       "             param_grid={'pca__n_components': [30, 35, 40, 45, 50, 55, 60, 65,\n",
       "                                               70, 75, 80]},\n",
       "             scoring='f1')"
      ]
     },
     "execution_count": 112,
     "metadata": {},
     "output_type": "execute_result"
    }
   ],
   "source": [
    "import warnings\n",
    "warnings.filterwarnings('ignore')\n",
    "\n",
    "X_train, X_test, y_train, y_test = train_test_split(X, y, test_size = 0.3, random_state = 42, stratify = y)\n",
    "\n",
    "#Standardization\n",
    "X_train.iloc[:,0:103] = scaler.fit_transform(X_train.iloc[:,0:103])\n",
    "X_test.iloc[:,0:103] = scaler.transform(X_test.iloc[:,0:103])\n",
    "#model\n",
    "rf = RandomForestClassifier(criterion= 'gini', max_depth = 5, max_features = 40, min_samples_leaf = 3, n_estimators = 125, random_state = 42)\n",
    "pipe = Pipeline(steps=[('pca', pca), ('forest', rf)])\n",
    "model = GridSearchCV(pipe, param_dict, cv = 5, verbose=0, scoring='f1')\n",
    "model.fit(X_train,y_train)"
   ]
  },
  {
   "cell_type": "code",
   "execution_count": 113,
   "metadata": {},
   "outputs": [
    {
     "data": {
      "text/plain": [
       "{'pca__n_components': 80}"
      ]
     },
     "execution_count": 113,
     "metadata": {},
     "output_type": "execute_result"
    }
   ],
   "source": [
    "#checking the selected permutation of parameters\n",
    "model.best_params_"
   ]
  },
  {
   "cell_type": "code",
   "execution_count": 114,
   "metadata": {},
   "outputs": [
    {
     "data": {
      "text/plain": [
       "0.8585247883917774"
      ]
     },
     "execution_count": 114,
     "metadata": {},
     "output_type": "execute_result"
    }
   ],
   "source": [
    "#checking how well the model does on the holdout-set\n",
    "model.score(X_test,y_test)"
   ]
  },
  {
   "cell_type": "code",
   "execution_count": 115,
   "metadata": {
    "scrolled": true
   },
   "outputs": [
    {
     "data": {
      "text/plain": [
       "0.8535847242847396"
      ]
     },
     "execution_count": 115,
     "metadata": {},
     "output_type": "execute_result"
    }
   ],
   "source": [
    "model.best_score_"
   ]
  },
  {
   "cell_type": "markdown",
   "metadata": {},
   "source": [
    "## XGBoost"
   ]
  },
  {
   "cell_type": "code",
   "execution_count": 116,
   "metadata": {},
   "outputs": [],
   "source": [
    "from xgboost import XGBClassifier\n",
    "from sklearn.model_selection import GridSearchCV"
   ]
  },
  {
   "cell_type": "code",
   "execution_count": 117,
   "metadata": {},
   "outputs": [],
   "source": [
    "param_dict = {\n",
    "    'max_depth': range (2, 6, 1),\n",
    "    'n_estimators': range(60, 220, 40),\n",
    "    'learning_rate': [0.1, 0.01, 0.05]\n",
    "}"
   ]
  },
  {
   "cell_type": "code",
   "execution_count": 118,
   "metadata": {},
   "outputs": [],
   "source": [
    "for i in X.columns:\n",
    "    if i[:5] == \"(Nom)\":\n",
    "        X[i] = X[i].astype('int')"
   ]
  },
  {
   "cell_type": "code",
   "execution_count": 119,
   "metadata": {},
   "outputs": [
    {
     "name": "stdout",
     "output_type": "stream",
     "text": [
      "Fitting 5 folds for each of 48 candidates, totalling 240 fits\n"
     ]
    },
    {
     "data": {
      "text/plain": [
       "GridSearchCV(cv=5,\n",
       "             estimator=XGBClassifier(base_score=None, booster=None,\n",
       "                                     colsample_bylevel=None,\n",
       "                                     colsample_bynode=None,\n",
       "                                     colsample_bytree=None,\n",
       "                                     eval_metric='mlogloss', gamma=None,\n",
       "                                     gpu_id=None, importance_type='gain',\n",
       "                                     interaction_constraints=None,\n",
       "                                     learning_rate=None, max_delta_step=None,\n",
       "                                     max_depth=None, min_child_weight=None,\n",
       "                                     missing=nan, monotone_constraints=None,\n",
       "                                     n_estimators=100, n_jobs=None,\n",
       "                                     num_parallel_tree=None, random_state=None,\n",
       "                                     reg_alpha=None, reg_lambda=None,\n",
       "                                     scale_pos_weight=None, subsample=None,\n",
       "                                     tree_method=None, validate_parameters=None,\n",
       "                                     verbosity=None),\n",
       "             param_grid={'learning_rate': [0.1, 0.01, 0.05],\n",
       "                         'max_depth': range(2, 6),\n",
       "                         'n_estimators': range(60, 220, 40)},\n",
       "             scoring='f1', verbose=1)"
      ]
     },
     "execution_count": 119,
     "metadata": {},
     "output_type": "execute_result"
    }
   ],
   "source": [
    "import warnings\n",
    "warnings.filterwarnings('ignore')\n",
    "\n",
    "X_train, X_test, y_train, y_test = train_test_split(X, y, test_size = 0.3, random_state = 42, stratify = y)\n",
    "\n",
    "#Standardization\n",
    "X_train.iloc[:,0:103] = scaler.fit_transform(X_train.iloc[:,0:103])\n",
    "X_test.iloc[:,0:103] = scaler.transform(X_test.iloc[:,0:103])\n",
    "#model\n",
    "estimator = XGBClassifier(eval_metric='mlogloss')\n",
    "model = GridSearchCV(estimator, param_dict, cv = 5, verbose=1, scoring='f1')\n",
    "model.fit(X_train,y_train)"
   ]
  },
  {
   "cell_type": "code",
   "execution_count": 120,
   "metadata": {},
   "outputs": [
    {
     "data": {
      "text/plain": [
       "{'learning_rate': 0.1, 'max_depth': 5, 'n_estimators': 140}"
      ]
     },
     "execution_count": 120,
     "metadata": {},
     "output_type": "execute_result"
    }
   ],
   "source": [
    "#checking the selected permutation of parameters\n",
    "model.best_params_"
   ]
  },
  {
   "cell_type": "code",
   "execution_count": 121,
   "metadata": {},
   "outputs": [
    {
     "data": {
      "text/plain": [
       "0.9806451612903226"
      ]
     },
     "execution_count": 121,
     "metadata": {},
     "output_type": "execute_result"
    }
   ],
   "source": [
    "#checking how well the model does on the holdout-set\n",
    "model.score(X_test,y_test)"
   ]
  },
  {
   "cell_type": "code",
   "execution_count": 122,
   "metadata": {
    "scrolled": true
   },
   "outputs": [
    {
     "data": {
      "text/plain": [
       "0.9762246043842808"
      ]
     },
     "execution_count": 122,
     "metadata": {},
     "output_type": "execute_result"
    }
   ],
   "source": [
    "model.best_score_"
   ]
  },
  {
   "cell_type": "markdown",
   "metadata": {},
   "source": [
    "## Logistic Regression\n"
   ]
  },
  {
   "cell_type": "code",
   "execution_count": 123,
   "metadata": {},
   "outputs": [],
   "source": [
    "param_dict = {\"C\" : np.logspace(-4, 4, 20), \"penalty\":[\"l1\",\"l2\"]}# l1 lasso l2 ridge"
   ]
  },
  {
   "cell_type": "code",
   "execution_count": 124,
   "metadata": {},
   "outputs": [
    {
     "name": "stdout",
     "output_type": "stream",
     "text": [
      "Fitting 5 folds for each of 40 candidates, totalling 200 fits\n"
     ]
    },
    {
     "data": {
      "text/plain": [
       "GridSearchCV(cv=5, estimator=LogisticRegression(),\n",
       "             param_grid={'C': array([1.00000000e-04, 2.63665090e-04, 6.95192796e-04, 1.83298071e-03,\n",
       "       4.83293024e-03, 1.27427499e-02, 3.35981829e-02, 8.85866790e-02,\n",
       "       2.33572147e-01, 6.15848211e-01, 1.62377674e+00, 4.28133240e+00,\n",
       "       1.12883789e+01, 2.97635144e+01, 7.84759970e+01, 2.06913808e+02,\n",
       "       5.45559478e+02, 1.43844989e+03, 3.79269019e+03, 1.00000000e+04]),\n",
       "                         'penalty': ['l1', 'l2']},\n",
       "             scoring='f1', verbose=1)"
      ]
     },
     "execution_count": 124,
     "metadata": {},
     "output_type": "execute_result"
    }
   ],
   "source": [
    "import warnings\n",
    "warnings.filterwarnings('ignore')\n",
    "\n",
    "X_train, X_test, y_train, y_test = train_test_split(X, y, test_size = 0.3, random_state = 42, stratify = y)\n",
    "\n",
    "#Standardization\n",
    "X_train.iloc[:,0:103] = scaler.fit_transform(X_train.iloc[:,0:103])\n",
    "X_test.iloc[:,0:103] = scaler.transform(X_test.iloc[:,0:103])\n",
    "#model\n",
    "estimator = LogisticRegression()\n",
    "model = GridSearchCV(estimator, param_dict, cv = 5, verbose=1, scoring='f1')\n",
    "model.fit(X_train,y_train)"
   ]
  },
  {
   "cell_type": "code",
   "execution_count": 125,
   "metadata": {},
   "outputs": [
    {
     "data": {
      "text/plain": [
       "{'C': 0.615848211066026, 'penalty': 'l2'}"
      ]
     },
     "execution_count": 125,
     "metadata": {},
     "output_type": "execute_result"
    }
   ],
   "source": [
    "#checking the selected permutation of parameters\n",
    "model.best_params_"
   ]
  },
  {
   "cell_type": "code",
   "execution_count": 126,
   "metadata": {},
   "outputs": [
    {
     "data": {
      "text/plain": [
       "0.9434447300771208"
      ]
     },
     "execution_count": 126,
     "metadata": {},
     "output_type": "execute_result"
    }
   ],
   "source": [
    "#checking how well the model does on the holdout-set\n",
    "model.score(X_test,y_test)"
   ]
  },
  {
   "cell_type": "code",
   "execution_count": 127,
   "metadata": {
    "scrolled": true
   },
   "outputs": [
    {
     "data": {
      "text/plain": [
       "0.9400175660650085"
      ]
     },
     "execution_count": 127,
     "metadata": {},
     "output_type": "execute_result"
    }
   ],
   "source": [
    "model.best_score_"
   ]
  },
  {
   "cell_type": "markdown",
   "metadata": {},
   "source": [
    "## SVM"
   ]
  },
  {
   "cell_type": "code",
   "execution_count": 128,
   "metadata": {},
   "outputs": [],
   "source": [
    "param_dict = {'C': list(range(100, 1001, 25)),\n",
    "              'gamma': [1, 0.1, 0.01, 0.001, 0.0001],\n",
    "              'kernel': ['rbf', 'poly']}"
   ]
  },
  {
   "cell_type": "code",
   "execution_count": 129,
   "metadata": {},
   "outputs": [
    {
     "name": "stdout",
     "output_type": "stream",
     "text": [
      "Fitting 5 folds for each of 370 candidates, totalling 1850 fits\n"
     ]
    },
    {
     "data": {
      "text/plain": [
       "GridSearchCV(cv=5, estimator=SVC(),\n",
       "             param_grid={'C': [100, 125, 150, 175, 200, 225, 250, 275, 300, 325,\n",
       "                               350, 375, 400, 425, 450, 475, 500, 525, 550, 575,\n",
       "                               600, 625, 650, 675, 700, 725, 750, 775, 800, 825, ...],\n",
       "                         'gamma': [1, 0.1, 0.01, 0.001, 0.0001],\n",
       "                         'kernel': ['rbf', 'poly']},\n",
       "             scoring='f1', verbose=1)"
      ]
     },
     "execution_count": 129,
     "metadata": {},
     "output_type": "execute_result"
    }
   ],
   "source": [
    "import warnings\n",
    "warnings.filterwarnings('ignore')\n",
    "\n",
    "X_train, X_test, y_train, y_test = train_test_split(X, y, test_size = 0.3, random_state = 42, stratify = y)\n",
    "\n",
    "#Standardization\n",
    "X_train.iloc[:,0:103] = scaler.fit_transform(X_train.iloc[:,0:103])\n",
    "X_test.iloc[:,0:103] = scaler.transform(X_test.iloc[:,0:103])\n",
    "#model\n",
    "estimator = SVC()\n",
    "model = GridSearchCV(estimator, param_dict, cv = 5, verbose=1, scoring='f1')\n",
    "model.fit(X_train,y_train)"
   ]
  },
  {
   "cell_type": "code",
   "execution_count": 130,
   "metadata": {},
   "outputs": [
    {
     "data": {
      "text/plain": [
       "{'C': 100, 'gamma': 0.01, 'kernel': 'rbf'}"
      ]
     },
     "execution_count": 130,
     "metadata": {},
     "output_type": "execute_result"
    }
   ],
   "source": [
    "#checking the selected permutation of parameters\n",
    "model.best_params_"
   ]
  },
  {
   "cell_type": "code",
   "execution_count": 131,
   "metadata": {},
   "outputs": [
    {
     "data": {
      "text/plain": [
       "0.9935483870967742"
      ]
     },
     "execution_count": 131,
     "metadata": {},
     "output_type": "execute_result"
    }
   ],
   "source": [
    "#checking how well the model does on the holdout-set\n",
    "model.score(X_test,y_test)"
   ]
  },
  {
   "cell_type": "code",
   "execution_count": 132,
   "metadata": {
    "scrolled": true
   },
   "outputs": [
    {
     "data": {
      "text/plain": [
       "0.9856290854633396"
      ]
     },
     "execution_count": 132,
     "metadata": {},
     "output_type": "execute_result"
    }
   ],
   "source": [
    "model.best_score_"
   ]
  },
  {
   "cell_type": "code",
   "execution_count": null,
   "metadata": {},
   "outputs": [],
   "source": []
  }
 ],
 "metadata": {
  "kernelspec": {
   "display_name": "Python 3 (ipykernel)",
   "language": "python",
   "name": "python3"
  },
  "language_info": {
   "codemirror_mode": {
    "name": "ipython",
    "version": 3
   },
   "file_extension": ".py",
   "mimetype": "text/x-python",
   "name": "python",
   "nbconvert_exporter": "python",
   "pygments_lexer": "ipython3",
   "version": "3.9.7"
  }
 },
 "nbformat": 4,
 "nbformat_minor": 4
}
